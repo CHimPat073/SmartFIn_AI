{
 "cells": [
  {
   "cell_type": "code",
   "execution_count": null,
   "id": "a4ffc5a1",
   "metadata": {},
   "outputs": [
    {
     "name": "stdout",
     "output_type": "stream",
     "text": [
      " * Serving Flask app '__main__'\n",
      " * Debug mode: on\n"
     ]
    },
    {
     "name": "stderr",
     "output_type": "stream",
     "text": [
      "WARNING: This is a development server. Do not use it in a production deployment. Use a production WSGI server instead.\n",
      " * Running on http://127.0.0.1:5000\n",
      "Press CTRL+C to quit\n",
      "127.0.0.1 - - [24/Nov/2024 00:54:04] \"GET / HTTP/1.1\" 200 -\n",
      "127.0.0.1 - - [24/Nov/2024 00:54:04] \"GET /chatbot.css HTTP/1.1\" 404 -\n",
      "127.0.0.1 - - [24/Nov/2024 00:54:04] \"GET /chatbot.js HTTP/1.1\" 404 -\n",
      "127.0.0.1 - - [24/Nov/2024 00:54:09] \"GET / HTTP/1.1\" 200 -\n",
      "127.0.0.1 - - [24/Nov/2024 00:54:09] \"GET /chatbot.css HTTP/1.1\" 404 -\n",
      "127.0.0.1 - - [24/Nov/2024 00:54:09] \"GET /chatbot.js HTTP/1.1\" 404 -\n",
      "127.0.0.1 - - [24/Nov/2024 00:54:10] \"GET / HTTP/1.1\" 200 -\n",
      "127.0.0.1 - - [24/Nov/2024 00:54:10] \"GET /chatbot.css HTTP/1.1\" 404 -\n",
      "127.0.0.1 - - [24/Nov/2024 00:54:10] \"GET /chatbot.js HTTP/1.1\" 404 -\n",
      "127.0.0.1 - - [24/Nov/2024 00:54:53] \"GET / HTTP/1.1\" 200 -\n",
      "127.0.0.1 - - [24/Nov/2024 00:54:53] \"GET /chatbot.css HTTP/1.1\" 404 -\n",
      "127.0.0.1 - - [24/Nov/2024 00:54:53] \"GET /chatbot.js HTTP/1.1\" 404 -\n",
      "127.0.0.1 - - [24/Nov/2024 00:54:56] \"GET / HTTP/1.1\" 200 -\n",
      "127.0.0.1 - - [24/Nov/2024 00:54:56] \"GET /chatbot.css HTTP/1.1\" 404 -\n",
      "127.0.0.1 - - [24/Nov/2024 00:54:56] \"GET /chatbot.js HTTP/1.1\" 404 -\n"
     ]
    }
   ],
   "source": [
    "from flask import Flask, request, jsonify, render_template\n",
    "\n",
    "app = Flask(__name__)\n",
    "\n",
    "@app.route('/')\n",
    "def index():\n",
    "    return render_template('chatbot.html')\n",
    "\n",
    "@app.route('/chat', methods=['POST'])\n",
    "def chat():\n",
    "    user_message = request.json.get('message', '').lower()\n",
    "\n",
    "    \n",
    "    if 'investment' in user_message:\n",
    "        bot_reply = \"Investments are subject to market risks. Diversify your portfolio for better results.\"\n",
    "    elif 'budget' in user_message:\n",
    "        bot_reply = \"Creating a budget helps you control expenses. Start by allocating fixed amounts to essentials!\"\n",
    "    else:\n",
    "        bot_reply = \"I'm here to help! Could you provide more details?\"\n",
    "\n",
    "    return jsonify({'reply': bot_reply})\n",
    "\n",
    "if __name__ == '__main__':\n",
    "    app.run(debug=True, use_reloader=False)\n"
   ]
  },
  {
   "cell_type": "code",
   "execution_count": null,
   "id": "7daf7322",
   "metadata": {},
   "outputs": [],
   "source": []
  }
 ],
 "metadata": {
  "kernelspec": {
   "display_name": "Python 3 (ipykernel)",
   "language": "python",
   "name": "python3"
  },
  "language_info": {
   "codemirror_mode": {
    "name": "ipython",
    "version": 3
   },
   "file_extension": ".py",
   "mimetype": "text/x-python",
   "name": "python",
   "nbconvert_exporter": "python",
   "pygments_lexer": "ipython3",
   "version": "3.11.4"
  }
 },
 "nbformat": 4,
 "nbformat_minor": 5
}
